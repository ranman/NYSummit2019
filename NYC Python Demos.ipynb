{
 "cells": [
  {
   "cell_type": "markdown",
   "metadata": {},
   "source": [
    "# Hello NYC!"
   ]
  },
  {
   "cell_type": "code",
   "execution_count": 1,
   "metadata": {},
   "outputs": [],
   "source": [
    "import boto3"
   ]
  },
  {
   "cell_type": "markdown",
   "metadata": {},
   "source": [
    "## Boto3\n",
    "\n",
    "Boto is the canonical python SDK for AWS. It is named after the Boto dolphin of the Amazon river.\n",
    "\n",
    "While this demo shows Python most of the other AWS language specific SDKs behave in a similar fashion and the lessons are transferable.\n",
    "\n",
    "## Clients\n",
    "\n",
    "Boto3 has `client`s and `resource`s. \n",
    "\n",
    "Clients are low level wrappers over the APIs that drive AWS and they add nice things like credentials, pagination, retries, and more.\n",
    "\n",
    "Resources are higher level abstractions over clients that add service specific niceties (e.g. DynamoDB, S3, etc.).\n",
    "\n",
    "## Credentials\n",
    "\n",
    "Boto3 looks for credentials to perform various API actions in a few different places (instance meta data, `~/.aws/credentials`, environment variables). Don't worry about that for now."
   ]
  },
  {
   "cell_type": "markdown",
   "metadata": {},
   "source": [
    "## Language Services"
   ]
  },
  {
   "cell_type": "markdown",
   "metadata": {},
   "source": [
    "### Polly"
   ]
  },
  {
   "cell_type": "code",
   "execution_count": null,
   "metadata": {},
   "outputs": [],
   "source": [
    "import pyaudio\n",
    "polly = boto3.client(\"polly\")\n",
    "audio = pyaudio.PyAudio()"
   ]
  },
  {
   "cell_type": "code",
   "execution_count": null,
   "metadata": {},
   "outputs": [],
   "source": [
    "def play_audio(streaming_data):\n",
    "    stream = audio.open(\n",
    "        format=audio.get_format_from_width(width=2), \n",
    "        channels=1,\n",
    "        rate=16000,\n",
    "        output=True\n",
    "    )\n",
    "    stream.write(streaming_data.read())\n",
    "    stream.stop_stream()\n",
    "    stream.close()"
   ]
  },
  {
   "cell_type": "code",
   "execution_count": null,
   "metadata": {
    "slideshow": {
     "slide_type": "slide"
    }
   },
   "outputs": [],
   "source": [
    "def speak(text, voice=\"Justin\"):\n",
    "    resp = polly.synthesize_speech(\n",
    "        Text=text,\n",
    "        TextType=\"text\",\n",
    "        OutputFormat=\"pcm\",\n",
    "        VoiceId=voice\n",
    "    )\n",
    "    play_audio(resp['AudioStream'])\n"
   ]
  },
  {
   "cell_type": "code",
   "execution_count": null,
   "metadata": {},
   "outputs": [],
   "source": [
    "speak(\"What's up NYC!\")"
   ]
  },
  {
   "cell_type": "markdown",
   "metadata": {},
   "source": [
    "### Let's be ridiculous. \n",
    "\n",
    "Can we make Polly speak with a boston accent?\n",
    "\n",
    "(thanks to @ivancampos for the idea and PLS file)"
   ]
  },
  {
   "cell_type": "code",
   "execution_count": null,
   "metadata": {},
   "outputs": [],
   "source": [
    "lexicon_data = \"\"\"<?xml version=\"1.0\" encoding=\"UTF-8\"?>\n",
    "<lexicon version=\"1.0\" xmlns=\"http://www.w3.org/2005/01/pronunciation-lexicon\" \n",
    "         xmlns:xsi=\"http://www.w3.org/2001/XMLSchema-instance\" \n",
    "         xsi:schemaLocation=\"http://www.w3.org/2005/01/pronunciation-lexicon \n",
    "         http://www.w3.org/TR/2007/CR-pronunciation-lexicon-20071212/pls.xsd\" \n",
    "         alphabet=\"ipa\" xml:lang=\"en-US\">\n",
    "<lexeme>\n",
    "  <grapheme>Bother</grapheme>\n",
    "  <phoneme>bɒːðə</phoneme>\n",
    "</lexeme>\n",
    "<lexeme>\n",
    "  <grapheme>Father</grapheme>\n",
    "  <phoneme>fäːðə</phoneme>\n",
    "</lexeme>\n",
    "<lexeme>\n",
    "  <grapheme>Corn</grapheme>\n",
    "  <phoneme>ˈkʰɒːn</phoneme>\n",
    "</lexeme>\n",
    "<lexeme>\n",
    "  <grapheme>Weird</grapheme>\n",
    "  <phoneme>wiɨd</phoneme>\n",
    "</lexeme>\n",
    "<lexeme>\n",
    "  <grapheme>Square</grapheme>\n",
    "  <phoneme>skweə</phoneme>\n",
    "</lexeme>\n",
    "<lexeme>\n",
    "  <grapheme>Here</grapheme>\n",
    "  <phoneme>heə</phoneme>\n",
    "</lexeme>\n",
    "<lexeme>\n",
    "  <grapheme>Color</grapheme>\n",
    "  <phoneme>kʰʌɫə</phoneme>\n",
    "</lexeme>\n",
    "<lexeme>\n",
    "  <grapheme>Park</grapheme>\n",
    "  <phoneme>pʰaːk</phoneme>\n",
    "</lexeme>\n",
    "<lexeme>\n",
    "  <grapheme>The</grapheme>\n",
    "  <phoneme>ðə</phoneme>\n",
    "</lexeme>\n",
    "<lexeme>\n",
    "  <grapheme>This</grapheme>\n",
    "  <phoneme>ðis</phoneme>\n",
    "</lexeme>  \n",
    "<lexeme>\n",
    "  <grapheme>Car</grapheme>\n",
    "  <phoneme>ˈkʰaːɹ</phoneme>\n",
    "</lexeme>\n",
    "<lexeme>\n",
    "  <grapheme>In</grapheme>\n",
    "  <phoneme>‿ɪn</phoneme>\n",
    "</lexeme>  \n",
    "<lexeme>\n",
    "  <grapheme>Harvard</grapheme>\n",
    "  <phoneme>ˈhaːvəd</phoneme>\n",
    "</lexeme>\n",
    "<lexeme>\n",
    "  <grapheme>Yard</grapheme>\n",
    "  <phoneme>ˈjaːd</phoneme>\n",
    "</lexeme>\n",
    "<lexeme>\n",
    "  <grapheme>Tuna</grapheme>\n",
    "  <phoneme>tʰuːnəɹ</phoneme>\n",
    "</lexeme> \n",
    "<lexeme>\n",
    "  <grapheme>Dark</grapheme>\n",
    "  <phoneme>daːk</phoneme>\n",
    "</lexeme>\n",
    "<lexeme>\n",
    "  <grapheme>Dock</grapheme>\n",
    "  <phoneme>dɒːk</phoneme>\n",
    "</lexeme>\n",
    "<lexeme>\n",
    "  <grapheme>Caught</grapheme>\n",
    "  <phoneme>kʰɒːt</phoneme>\n",
    "</lexeme>\n",
    "<lexeme>\n",
    "  <grapheme>Four</grapheme>\n",
    "  <phoneme>fɒː</phoneme>\n",
    "</lexeme>\n",
    "<lexeme>\n",
    "  <grapheme>Horse</grapheme>\n",
    "  <phoneme>hɒːs</phoneme>\n",
    "</lexeme>\n",
    "<lexeme>\n",
    "  <grapheme>Man</grapheme>\n",
    "  <phoneme>meən</phoneme>\n",
    "</lexeme>\n",
    "<lexeme>\n",
    "  <grapheme>Planet</grapheme>\n",
    "  <phoneme>ˈpʰɫeənət</phoneme>\n",
    "</lexeme>\n",
    "<lexeme>\n",
    "  <grapheme>Half</grapheme>\n",
    "  <phoneme>haːf</phoneme>\n",
    "</lexeme>\n",
    "<lexeme>\n",
    "  <grapheme>Bath</grapheme>\n",
    "  <phoneme>baːθ</phoneme>\n",
    "</lexeme>\n",
    "<lexeme>\n",
    "  <grapheme>Hurry</grapheme>\n",
    "  <phoneme>ˈhʌɹi</phoneme>\n",
    "</lexeme>\n",
    "<lexeme>\n",
    "  <grapheme>Mirror</grapheme>\n",
    "  <phoneme>ˈmɪɹə</phoneme>\n",
    "</lexeme>\n",
    "<lexeme>\n",
    "  <grapheme>Nearer</grapheme>\n",
    "  <phoneme>ˈniəɹə</phoneme>\n",
    "</lexeme>\n",
    "<lexeme>\n",
    "  <grapheme>Years</grapheme>\n",
    "  <phoneme>jeəs</phoneme>\n",
    "</lexeme>\n",
    "<lexeme>\n",
    "  <grapheme>Brother</grapheme>\n",
    "  <phoneme>brʌðə</phoneme>\n",
    "</lexeme>\n",
    "<lexeme>\n",
    "  <grapheme>Palm</grapheme>\n",
    "  <phoneme>pa:m</phoneme>\n",
    "</lexeme>\n",
    "<lexeme>\n",
    "  <grapheme>Boston</grapheme>\n",
    "  <phoneme>bɒstən</phoneme>\n",
    "</lexeme>\n",
    "<lexeme>\n",
    "  <grapheme>Your</grapheme>\n",
    "  <phoneme>jO:</phoneme>\n",
    "</lexeme>\n",
    "<lexeme>\n",
    "  <grapheme>Or</grapheme>\n",
    "  <phoneme>O:</phoneme>\n",
    "</lexeme>  \n",
    "<lexeme>\n",
    "  <grapheme>Cars</grapheme>\n",
    "  <phoneme>kAz</phoneme>\n",
    "</lexeme>\n",
    "<lexeme>\n",
    "  <grapheme>Blinkers</grapheme>\n",
    "  <phoneme>blIN.k@z</phoneme>\n",
    "</lexeme>\n",
    "<lexeme>\n",
    "  <grapheme>Fortunately</grapheme>\n",
    "  <phoneme>fO.tS@n.@t.li</phoneme>\n",
    "</lexeme>\n",
    "<lexeme>\n",
    "  <grapheme>Cure</grapheme>\n",
    "  <phoneme>kjʊə</phoneme>\n",
    "</lexeme>\n",
    "<lexeme>\n",
    "  <grapheme>Beer</grapheme>\n",
    "  <phoneme>biə</phoneme>\n",
    "</lexeme>\n",
    "<lexeme>\n",
    "  <grapheme>Her</grapheme>\n",
    "  <phoneme>hə</phoneme>\n",
    "</lexeme>  \n",
    "<lexeme>\n",
    "  <grapheme>Heart</grapheme>\n",
    "  <phoneme>hɑ:t</phoneme>\n",
    "</lexeme>\n",
    "<lexeme>\n",
    "  <grapheme>Ask</grapheme>\n",
    "  <phoneme>aːsk</phoneme>\n",
    "</lexeme>  \n",
    "<lexeme>\n",
    "  <grapheme>Aunt</grapheme>\n",
    "  <phoneme>aːnt</phoneme>\n",
    "</lexeme> \n",
    "<lexeme>\n",
    "  <grapheme>Perhaps</grapheme>\n",
    "  <phoneme>pə.hæps</phoneme>\n",
    "</lexeme>\n",
    "<lexeme>\n",
    "  <grapheme>Purchase</grapheme>\n",
    "  <phoneme>pʌː.ʧəs</phoneme>\n",
    "</lexeme>\n",
    "<lexeme>\n",
    "  <grapheme>Hot</grapheme>\n",
    "  <phoneme>hɑt</phoneme>\n",
    "</lexeme>\n",
    "<lexeme>\n",
    "  <grapheme>Cheddar</grapheme>\n",
    "  <phoneme>ʧɛ.da</phoneme>\n",
    "</lexeme>\n",
    "<lexeme>\n",
    "  <grapheme>Is</grapheme>\n",
    "  <phoneme>ɪz</phoneme>\n",
    "</lexeme>\n",
    "<lexeme>\n",
    "  <grapheme>At</grapheme>\n",
    "  <phoneme>æt</phoneme>\n",
    "</lexeme>\n",
    "</lexicon>\n",
    "\"\"\""
   ]
  },
  {
   "cell_type": "code",
   "execution_count": null,
   "metadata": {},
   "outputs": [],
   "source": [
    "polly.put_lexicon(Name=\"lol\", Content=lexicon_data)"
   ]
  },
  {
   "cell_type": "code",
   "execution_count": null,
   "metadata": {},
   "outputs": [],
   "source": [
    "resp = polly.synthesize_speech(\n",
    "    LexiconNames=[\"lol\"],\n",
    "    OutputFormat=\"pcm\",\n",
    "    Text=\"\"\"\n",
    "    <speak>\n",
    "    Park The <prosody rate=\"x-slow\">Car</prosody> \n",
    "    In <prosody rate=\"x-slow\">Harvard</prosody> Yard.\n",
    "    </speak>\n",
    "    \"\"\",\n",
    "    TextType=\"ssml\",\n",
    "    VoiceId=\"Justin\"\n",
    ")\n",
    "play_audio(resp['AudioStream'])"
   ]
  },
  {
   "cell_type": "markdown",
   "metadata": {},
   "source": [
    "### Translate"
   ]
  },
  {
   "cell_type": "code",
   "execution_count": null,
   "metadata": {},
   "outputs": [],
   "source": [
    "translate = boto3.client(\"translate\")\n",
    "\n",
    "def translator(text):\n",
    "    return translate.translate_text(\n",
    "        Text=text,\n",
    "        SourceLanguageCode=\"auto\",\n",
    "        TargetLanguageCode=\"en\"\n",
    "    )['TranslatedText']"
   ]
  },
  {
   "cell_type": "markdown",
   "metadata": {},
   "source": [
    "#### Good translations"
   ]
  },
  {
   "cell_type": "code",
   "execution_count": null,
   "metadata": {},
   "outputs": [],
   "source": [
    "translator(\"Dudelsack und Handschue\")"
   ]
  },
  {
   "cell_type": "code",
   "execution_count": null,
   "metadata": {},
   "outputs": [],
   "source": [
    "translator(\"Блин\")"
   ]
  },
  {
   "cell_type": "code",
   "execution_count": null,
   "metadata": {},
   "outputs": [],
   "source": [
    "translator(\"Tu me manques\")"
   ]
  },
  {
   "cell_type": "markdown",
   "metadata": {},
   "source": [
    "#### Not Quite Right"
   ]
  },
  {
   "cell_type": "code",
   "execution_count": null,
   "metadata": {},
   "outputs": [],
   "source": [
    "translator(\"den är paj\")"
   ]
  },
  {
   "cell_type": "code",
   "execution_count": null,
   "metadata": {},
   "outputs": [],
   "source": [
    "translator(\"横飯\") #yokomeshi"
   ]
  },
  {
   "cell_type": "markdown",
   "metadata": {},
   "source": [
    "### Comprehend"
   ]
  },
  {
   "cell_type": "code",
   "execution_count": null,
   "metadata": {},
   "outputs": [],
   "source": [
    "comprehend = boto3.client(\"comprehend\")"
   ]
  },
  {
   "cell_type": "code",
   "execution_count": null,
   "metadata": {},
   "outputs": [],
   "source": [
    "comprehend.detect_entities(\n",
    "    Text=\"It is raining today in Seattle\", LanguageCode=\"en\")"
   ]
  },
  {
   "cell_type": "code",
   "execution_count": null,
   "metadata": {},
   "outputs": [],
   "source": [
    "comprehend.detect_sentiment(\n",
    "    Text=\"I am super angry grrr 😠\", LanguageCode=\"en\")"
   ]
  },
  {
   "cell_type": "code",
   "execution_count": null,
   "metadata": {},
   "outputs": [],
   "source": [
    "comprehend.detect_key_phrases(\n",
    "    Text=\"It is extremely hot in NYC today.\", LanguageCode=\"en\")"
   ]
  },
  {
   "cell_type": "markdown",
   "metadata": {},
   "source": [
    "### Textract"
   ]
  },
  {
   "cell_type": "code",
   "execution_count": null,
   "metadata": {},
   "outputs": [],
   "source": [
    "textract = boto3.client(\"textract\")"
   ]
  },
  {
   "cell_type": "code",
   "execution_count": null,
   "metadata": {},
   "outputs": [],
   "source": [
    "with open('han.jpg', 'rb') as f:\n",
    "    resp = textract.analyze_document(\n",
    "        Document={\n",
    "            'Bytes': f.read()\n",
    "        },\n",
    "        FeatureTypes=['TABLES', 'FORMS']\n",
    "    )\n",
    "print(resp)"
   ]
  },
  {
   "cell_type": "code",
   "execution_count": null,
   "metadata": {},
   "outputs": [],
   "source": [
    "with open('han.jpg', 'rb') as f:\n",
    "    resp = textract.detect_document_text(\n",
    "        Document={'Bytes': f.read()}\n",
    "    )\n",
    "print(resp)"
   ]
  },
  {
   "cell_type": "markdown",
   "metadata": {},
   "source": [
    "### Rekognition"
   ]
  },
  {
   "cell_type": "code",
   "execution_count": 3,
   "metadata": {},
   "outputs": [],
   "source": [
    "from timeit import default_timer as timer\n",
    "from datetime import timedelta\n",
    "from PIL import Image, ImageFilter, ImageDraw\n",
    "\n",
    "rek = boto3.client(\"rekognition\")\n",
    "\n",
    "def get_face_boxes(faces, source_size):\n",
    "    return [\n",
    "        (\n",
    "            int(f['BoundingBox']['Left'] * source_size[0]),\n",
    "            int(f['BoundingBox']['Top'] * source_size[1]),\n",
    "            int((f['BoundingBox']['Left'] + f['BoundingBox']['Width']) * source_size[0]),\n",
    "            int((f['BoundingBox']['Top'] + f['BoundingBox']['Height']) * source_size[1]),\n",
    "            f['Pose']['Roll']\n",
    "        )\n",
    "        for f in faces\n",
    "    ]\n",
    "\n",
    "def call_rekognition(image, confidence=90):\n",
    "    start = timer()\n",
    "    resp = rek.detect_faces(Image={\"Bytes\": image.read()})\n",
    "    faces = [\n",
    "        face for face in resp['FaceDetails'] \n",
    "        if face['Confidence'] > confidence\n",
    "    ]\n",
    "    end = timer()\n",
    "    duration = timedelta(seconds=end-start)\n",
    "    print(f\"Found {len(faces)} faces in {duration} seconds\")\n",
    "    return faces\n",
    "\n",
    "\n",
    "def blur_faces(image, faces):\n",
    "    im = Image.open(image)\n",
    "    source_size = im.size[0], im.size[1]\n",
    "    draw = ImageDraw.Draw(im)\n",
    "    for face_box in get_face_boxes(faces, source_size):\n",
    "        face_img = im.copy()\n",
    "        blurred_face = face_img.crop(face_box[:4])\n",
    "        blurred_face = blurred_face.filter(ImageFilter.GaussianBlur(20))\n",
    "        im.paste(blurred_face, (face_box[0], face_box[1]))\n",
    "        draw.rectangle(face_box[:4], outline=\"#ff0000\")\n",
    "    return im"
   ]
  },
  {
   "cell_type": "code",
   "execution_count": 4,
   "metadata": {},
   "outputs": [
    {
     "name": "stdout",
     "output_type": "stream",
     "text": [
      "Found 43 faces in 0:00:09.878688 seconds\n"
     ]
    }
   ],
   "source": [
    "import os\n",
    "with open(\"example_crowd.jpg\", 'rb') as f:\n",
    "    faces = call_rekognition(f)\n",
    "    img = blur_faces(f, faces)\n",
    "img.show()"
   ]
  },
  {
   "cell_type": "code",
   "execution_count": null,
   "metadata": {},
   "outputs": [],
   "source": []
  }
 ],
 "metadata": {
  "kernelspec": {
   "display_name": "Python 3",
   "language": "python",
   "name": "python3"
  },
  "language_info": {
   "codemirror_mode": {
    "name": "ipython",
    "version": 3
   },
   "file_extension": ".py",
   "mimetype": "text/x-python",
   "name": "python",
   "nbconvert_exporter": "python",
   "pygments_lexer": "ipython3",
   "version": "3.7.3"
  }
 },
 "nbformat": 4,
 "nbformat_minor": 2
}
